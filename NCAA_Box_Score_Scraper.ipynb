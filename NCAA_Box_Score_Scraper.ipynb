{
 "cells": [
  {
   "cell_type": "code",
   "execution_count": null,
   "id": "5f753cdc",
   "metadata": {},
   "outputs": [
    {
     "ename": "ValueError",
     "evalue": "numpy.dtype size changed, may indicate binary incompatibility. Expected 96 from C header, got 88 from PyObject",
     "output_type": "error",
     "traceback": [
      "\u001b[1;31m---------------------------------------------------------------------------\u001b[0m",
      "\u001b[1;31mValueError\u001b[0m                                Traceback (most recent call last)",
      "Cell \u001b[1;32mIn[5], line 3\u001b[0m\n\u001b[0;32m      1\u001b[0m \u001b[38;5;28;01mimport\u001b[39;00m \u001b[38;5;21;01mrequests\u001b[39;00m\n\u001b[0;32m      2\u001b[0m \u001b[38;5;28;01mfrom\u001b[39;00m \u001b[38;5;21;01mbs4\u001b[39;00m \u001b[38;5;28;01mimport\u001b[39;00m BeautifulSoup\n\u001b[1;32m----> 3\u001b[0m \u001b[38;5;28;01mimport\u001b[39;00m \u001b[38;5;21;01mpandas\u001b[39;00m \u001b[38;5;28;01mas\u001b[39;00m \u001b[38;5;21;01mpd\u001b[39;00m\n\u001b[0;32m      4\u001b[0m \u001b[38;5;28;01mimport\u001b[39;00m \u001b[38;5;21;01mnumpy\u001b[39;00m \u001b[38;5;28;01mas\u001b[39;00m \u001b[38;5;21;01mnp\u001b[39;00m\n\u001b[0;32m      5\u001b[0m \u001b[38;5;28;01mimport\u001b[39;00m \u001b[38;5;21;01mre\u001b[39;00m\n",
      "File \u001b[1;32mc:\\Users\\har\\anaconda3\\Lib\\site-packages\\pandas\\__init__.py:22\u001b[0m\n\u001b[0;32m     19\u001b[0m \u001b[38;5;28;01mdel\u001b[39;00m _hard_dependencies, _dependency, _missing_dependencies\n\u001b[0;32m     21\u001b[0m \u001b[38;5;66;03m# numpy compat\u001b[39;00m\n\u001b[1;32m---> 22\u001b[0m \u001b[38;5;28;01mfrom\u001b[39;00m \u001b[38;5;21;01mpandas\u001b[39;00m\u001b[38;5;21;01m.\u001b[39;00m\u001b[38;5;21;01mcompat\u001b[39;00m \u001b[38;5;28;01mimport\u001b[39;00m is_numpy_dev \u001b[38;5;28;01mas\u001b[39;00m _is_numpy_dev  \u001b[38;5;66;03m# pyright: ignore # noqa:F401\u001b[39;00m\n\u001b[0;32m     24\u001b[0m \u001b[38;5;28;01mtry\u001b[39;00m:\n\u001b[0;32m     25\u001b[0m     \u001b[38;5;28;01mfrom\u001b[39;00m \u001b[38;5;21;01mpandas\u001b[39;00m\u001b[38;5;21;01m.\u001b[39;00m\u001b[38;5;21;01m_libs\u001b[39;00m \u001b[38;5;28;01mimport\u001b[39;00m hashtable \u001b[38;5;28;01mas\u001b[39;00m _hashtable, lib \u001b[38;5;28;01mas\u001b[39;00m _lib, tslib \u001b[38;5;28;01mas\u001b[39;00m _tslib\n",
      "File \u001b[1;32mc:\\Users\\har\\anaconda3\\Lib\\site-packages\\pandas\\compat\\__init__.py:18\u001b[0m\n\u001b[0;32m     15\u001b[0m \u001b[38;5;28;01mfrom\u001b[39;00m \u001b[38;5;21;01mtyping\u001b[39;00m \u001b[38;5;28;01mimport\u001b[39;00m TYPE_CHECKING\n\u001b[0;32m     17\u001b[0m \u001b[38;5;28;01mfrom\u001b[39;00m \u001b[38;5;21;01mpandas\u001b[39;00m\u001b[38;5;21;01m.\u001b[39;00m\u001b[38;5;21;01m_typing\u001b[39;00m \u001b[38;5;28;01mimport\u001b[39;00m F\n\u001b[1;32m---> 18\u001b[0m \u001b[38;5;28;01mfrom\u001b[39;00m \u001b[38;5;21;01mpandas\u001b[39;00m\u001b[38;5;21;01m.\u001b[39;00m\u001b[38;5;21;01mcompat\u001b[39;00m\u001b[38;5;21;01m.\u001b[39;00m\u001b[38;5;21;01mnumpy\u001b[39;00m \u001b[38;5;28;01mimport\u001b[39;00m (\n\u001b[0;32m     19\u001b[0m     is_numpy_dev,\n\u001b[0;32m     20\u001b[0m     np_version_under1p21,\n\u001b[0;32m     21\u001b[0m )\n\u001b[0;32m     22\u001b[0m \u001b[38;5;28;01mfrom\u001b[39;00m \u001b[38;5;21;01mpandas\u001b[39;00m\u001b[38;5;21;01m.\u001b[39;00m\u001b[38;5;21;01mcompat\u001b[39;00m\u001b[38;5;21;01m.\u001b[39;00m\u001b[38;5;21;01mpyarrow\u001b[39;00m \u001b[38;5;28;01mimport\u001b[39;00m (\n\u001b[0;32m     23\u001b[0m     pa_version_under1p01,\n\u001b[0;32m     24\u001b[0m     pa_version_under2p0,\n\u001b[1;32m   (...)\u001b[0m\n\u001b[0;32m     31\u001b[0m     pa_version_under9p0,\n\u001b[0;32m     32\u001b[0m )\n\u001b[0;32m     34\u001b[0m \u001b[38;5;28;01mif\u001b[39;00m TYPE_CHECKING:\n",
      "File \u001b[1;32mc:\\Users\\har\\anaconda3\\Lib\\site-packages\\pandas\\compat\\numpy\\__init__.py:4\u001b[0m\n\u001b[0;32m      1\u001b[0m \u001b[38;5;124;03m\"\"\" support numpy compatibility across versions \"\"\"\u001b[39;00m\n\u001b[0;32m      2\u001b[0m \u001b[38;5;28;01mimport\u001b[39;00m \u001b[38;5;21;01mnumpy\u001b[39;00m \u001b[38;5;28;01mas\u001b[39;00m \u001b[38;5;21;01mnp\u001b[39;00m\n\u001b[1;32m----> 4\u001b[0m \u001b[38;5;28;01mfrom\u001b[39;00m \u001b[38;5;21;01mpandas\u001b[39;00m\u001b[38;5;21;01m.\u001b[39;00m\u001b[38;5;21;01mutil\u001b[39;00m\u001b[38;5;21;01m.\u001b[39;00m\u001b[38;5;21;01mversion\u001b[39;00m \u001b[38;5;28;01mimport\u001b[39;00m Version\n\u001b[0;32m      6\u001b[0m \u001b[38;5;66;03m# numpy versioning\u001b[39;00m\n\u001b[0;32m      7\u001b[0m _np_version \u001b[38;5;241m=\u001b[39m np\u001b[38;5;241m.\u001b[39m__version__\n",
      "File \u001b[1;32mc:\\Users\\har\\anaconda3\\Lib\\site-packages\\pandas\\util\\__init__.py:2\u001b[0m\n\u001b[0;32m      1\u001b[0m \u001b[38;5;66;03m# pyright: reportUnusedImport = false\u001b[39;00m\n\u001b[1;32m----> 2\u001b[0m \u001b[38;5;28;01mfrom\u001b[39;00m \u001b[38;5;21;01mpandas\u001b[39;00m\u001b[38;5;21;01m.\u001b[39;00m\u001b[38;5;21;01mutil\u001b[39;00m\u001b[38;5;21;01m.\u001b[39;00m\u001b[38;5;21;01m_decorators\u001b[39;00m \u001b[38;5;28;01mimport\u001b[39;00m (  \u001b[38;5;66;03m# noqa:F401\u001b[39;00m\n\u001b[0;32m      3\u001b[0m     Appender,\n\u001b[0;32m      4\u001b[0m     Substitution,\n\u001b[0;32m      5\u001b[0m     cache_readonly,\n\u001b[0;32m      6\u001b[0m )\n\u001b[0;32m      8\u001b[0m \u001b[38;5;28;01mfrom\u001b[39;00m \u001b[38;5;21;01mpandas\u001b[39;00m\u001b[38;5;21;01m.\u001b[39;00m\u001b[38;5;21;01mcore\u001b[39;00m\u001b[38;5;21;01m.\u001b[39;00m\u001b[38;5;21;01mutil\u001b[39;00m\u001b[38;5;21;01m.\u001b[39;00m\u001b[38;5;21;01mhashing\u001b[39;00m \u001b[38;5;28;01mimport\u001b[39;00m (  \u001b[38;5;66;03m# noqa:F401\u001b[39;00m\n\u001b[0;32m      9\u001b[0m     hash_array,\n\u001b[0;32m     10\u001b[0m     hash_pandas_object,\n\u001b[0;32m     11\u001b[0m )\n\u001b[0;32m     14\u001b[0m \u001b[38;5;28;01mdef\u001b[39;00m \u001b[38;5;21m__getattr__\u001b[39m(name):\n",
      "File \u001b[1;32mc:\\Users\\har\\anaconda3\\Lib\\site-packages\\pandas\\util\\_decorators.py:14\u001b[0m\n\u001b[0;32m      6\u001b[0m \u001b[38;5;28;01mfrom\u001b[39;00m \u001b[38;5;21;01mtyping\u001b[39;00m \u001b[38;5;28;01mimport\u001b[39;00m (\n\u001b[0;32m      7\u001b[0m     Any,\n\u001b[0;32m      8\u001b[0m     Callable,\n\u001b[0;32m      9\u001b[0m     Mapping,\n\u001b[0;32m     10\u001b[0m     cast,\n\u001b[0;32m     11\u001b[0m )\n\u001b[0;32m     12\u001b[0m \u001b[38;5;28;01mimport\u001b[39;00m \u001b[38;5;21;01mwarnings\u001b[39;00m\n\u001b[1;32m---> 14\u001b[0m \u001b[38;5;28;01mfrom\u001b[39;00m \u001b[38;5;21;01mpandas\u001b[39;00m\u001b[38;5;21;01m.\u001b[39;00m\u001b[38;5;21;01m_libs\u001b[39;00m\u001b[38;5;21;01m.\u001b[39;00m\u001b[38;5;21;01mproperties\u001b[39;00m \u001b[38;5;28;01mimport\u001b[39;00m cache_readonly\n\u001b[0;32m     15\u001b[0m \u001b[38;5;28;01mfrom\u001b[39;00m \u001b[38;5;21;01mpandas\u001b[39;00m\u001b[38;5;21;01m.\u001b[39;00m\u001b[38;5;21;01m_typing\u001b[39;00m \u001b[38;5;28;01mimport\u001b[39;00m (\n\u001b[0;32m     16\u001b[0m     F,\n\u001b[0;32m     17\u001b[0m     T,\n\u001b[0;32m     18\u001b[0m )\n\u001b[0;32m     19\u001b[0m \u001b[38;5;28;01mfrom\u001b[39;00m \u001b[38;5;21;01mpandas\u001b[39;00m\u001b[38;5;21;01m.\u001b[39;00m\u001b[38;5;21;01mutil\u001b[39;00m\u001b[38;5;21;01m.\u001b[39;00m\u001b[38;5;21;01m_exceptions\u001b[39;00m \u001b[38;5;28;01mimport\u001b[39;00m find_stack_level\n",
      "File \u001b[1;32mc:\\Users\\har\\anaconda3\\Lib\\site-packages\\pandas\\_libs\\__init__.py:13\u001b[0m\n\u001b[0;32m      1\u001b[0m __all__ \u001b[38;5;241m=\u001b[39m [\n\u001b[0;32m      2\u001b[0m     \u001b[38;5;124m\"\u001b[39m\u001b[38;5;124mNaT\u001b[39m\u001b[38;5;124m\"\u001b[39m,\n\u001b[0;32m      3\u001b[0m     \u001b[38;5;124m\"\u001b[39m\u001b[38;5;124mNaTType\u001b[39m\u001b[38;5;124m\"\u001b[39m,\n\u001b[1;32m   (...)\u001b[0m\n\u001b[0;32m      9\u001b[0m     \u001b[38;5;124m\"\u001b[39m\u001b[38;5;124mInterval\u001b[39m\u001b[38;5;124m\"\u001b[39m,\n\u001b[0;32m     10\u001b[0m ]\n\u001b[1;32m---> 13\u001b[0m \u001b[38;5;28;01mfrom\u001b[39;00m \u001b[38;5;21;01mpandas\u001b[39;00m\u001b[38;5;21;01m.\u001b[39;00m\u001b[38;5;21;01m_libs\u001b[39;00m\u001b[38;5;21;01m.\u001b[39;00m\u001b[38;5;21;01minterval\u001b[39;00m \u001b[38;5;28;01mimport\u001b[39;00m Interval\n\u001b[0;32m     14\u001b[0m \u001b[38;5;28;01mfrom\u001b[39;00m \u001b[38;5;21;01mpandas\u001b[39;00m\u001b[38;5;21;01m.\u001b[39;00m\u001b[38;5;21;01m_libs\u001b[39;00m\u001b[38;5;21;01m.\u001b[39;00m\u001b[38;5;21;01mtslibs\u001b[39;00m \u001b[38;5;28;01mimport\u001b[39;00m (\n\u001b[0;32m     15\u001b[0m     NaT,\n\u001b[0;32m     16\u001b[0m     NaTType,\n\u001b[1;32m   (...)\u001b[0m\n\u001b[0;32m     21\u001b[0m     iNaT,\n\u001b[0;32m     22\u001b[0m )\n",
      "File \u001b[1;32mc:\\Users\\har\\anaconda3\\Lib\\site-packages\\pandas\\_libs\\interval.pyx:1\u001b[0m, in \u001b[0;36minit pandas._libs.interval\u001b[1;34m()\u001b[0m\n",
      "\u001b[1;31mValueError\u001b[0m: numpy.dtype size changed, may indicate binary incompatibility. Expected 96 from C header, got 88 from PyObject"
     ]
    }
   ],
   "source": [
    "import requests\n",
    "from bs4 import BeautifulSoup\n",
    "import pandas as pd\n",
    "import numpy as np\n",
    "import re\n",
    "import time\n",
    "import csv\n",
    "from selenium import webdriver\n",
    "from selenium.webdriver.common.by import By\n",
    "from selenium.webdriver.support.ui import WebDriverWait\n",
    "from selenium.webdriver.support import expected_conditions as EC\n",
    "from selenium.webdriver.chrome.options import Options\n",
    "from io import StringIO\n",
    "import os\n",
    "from dotenv import load_dotenv\n",
    "\n",
    "# Load environment variables\n",
    "load_dotenv()"
   ]
  },
  {
   "cell_type": "code",
   "execution_count": 22,
   "id": "7e34e440",
   "metadata": {},
   "outputs": [],
   "source": [
    "def get_box_scores(link):\n",
    "    link_indices = link.split('/')\n",
    "    csv_name = f\"{link_indices[4]}_{link_indices[5]}_{link_indices[7]}_{link_indices[8]}_{link_indices[6]}.csv\"\n",
    "    print(csv_name)\n",
    "    driver = webdriver.Chrome()\n",
    "    http_body : requests.Response = requests.get(link)\n",
    "    soup_page_html : BeautifulSoup = BeautifulSoup(http_body.text, 'html.parser')\n",
    "    box_scores = soup_page_html.find_all(class_=\"gamePod-link\")\n",
    "    box_score_links = [\"http://ncaa.com\" + box_score['href'] for box_score in box_scores]\n",
    "    \n",
    "    for box_score_link in box_score_links:\n",
    "        print(box_score_link)\n",
    "        driver.implicitly_wait(5)\n",
    "        driver.get(box_score_link)\n",
    "        time.sleep(5)\n",
    "        driver.execute_script(\"window.stop();\")\n",
    "\n",
    "\n",
    "        game_id = box_score_link.split('/')[4]\n",
    "\n",
    "        try:\n",
    "            child_divs = driver.find_element(By.CLASS_NAME, \"boxscore-team-selector\").find_elements(By.TAG_NAME, \"div\")\n",
    "        except Exception:\n",
    "            continue\n",
    "        child_divs_text = [div.text for div in child_divs]\n",
    "\n",
    "        table = driver.find_element(By.CLASS_NAME, 'gamecenter-tab-boxscore').find_element(By.TAG_NAME, 'table')\n",
    "\n",
    "        df_team_one = pd.read_html(StringIO(table.get_attribute('outerHTML')))[0]\n",
    "\n",
    "        df_team_one['TEAM'] = child_divs_text[0]\n",
    "        df_team_one['OPP'] = child_divs_text[1]\n",
    "        df_team_one['GAMEID'] = game_id\n",
    "        df_team_one['GAMELINK'] = box_score_link\n",
    "\n",
    "        df_team_one = df_team_one.iloc[:-2] # Remove rows with indices 1 and 3\n",
    "        \n",
    "        child_divs[1].click() # Go to next tab\n",
    "\n",
    "        table = driver.find_element(By.CLASS_NAME, 'gamecenter-tab-boxscore').find_element(By.TAG_NAME, 'table')\n",
    "\n",
    "        df_team_two = pd.read_html(StringIO(table.get_attribute('outerHTML')))[0]\n",
    "\n",
    "        df_team_two['TEAM'] = child_divs_text[1]\n",
    "        df_team_two['OPP'] = child_divs_text[0]\n",
    "        df_team_two['GAMEID'] = game_id\n",
    "        df_team_two['GAMELINK'] = link\n",
    "\n",
    "        df_team_two = df_team_two.iloc[:-2]  # Remove rows with indices 1 and 3\n",
    "\n",
    "        # Write the first DataFrame with headers\n",
    "        df_team_one.to_csv(csv_name, index=False, header=True, mode='a')\n",
    "\n",
    "        df_team_two.to_csv(csv_name, index=False, mode='a')\n",
    "        \n",
    "    driver.close()\n"
   ]
  },
  {
   "cell_type": "code",
   "execution_count": 24,
   "id": "5106f4a5",
   "metadata": {},
   "outputs": [],
   "source": [
    "import datetime\n",
    "from datetime import timedelta"
   ]
  },
  {
   "cell_type": "code",
   "execution_count": 26,
   "id": "f92ace1e",
   "metadata": {},
   "outputs": [],
   "source": [
    "yesterday = datetime.date.today() - timedelta(days = 1)"
   ]
  },
  {
   "cell_type": "code",
   "execution_count": 28,
   "id": "91f92762",
   "metadata": {},
   "outputs": [],
   "source": [
    "date = yesterday.strftime('%Y/%m/%d')"
   ]
  },
  {
   "cell_type": "code",
   "execution_count": 30,
   "id": "a1a5269b-96ab-4e2d-a930-f74bfc9986a0",
   "metadata": {},
   "outputs": [],
   "source": [
    "backfills = [\n",
    "         f\"https://www.ncaa.com/scoreboard/basketball-women/d1/2025/01/12/all-conf\",\n",
    "         f\"https://www.ncaa.com/scoreboard/basketball-women/d2/2025/01/12/all-conf\",\n",
    "         f\"https://www.ncaa.com/scoreboard/basketball-women/d3/2025/01/12/all-conf\",\n",
    "         f\"https://www.ncaa.com/scoreboard/basketball-women/d1/2025/01/12/all-conf\",\n",
    "         f\"https://www.ncaa.com/scoreboard/basketball-women/d2/2025/01/12/all-conf\",\n",
    "         f\"https://www.ncaa.com/scoreboard/basketball-women/d3/2025/01/12/all-conf\",\n",
    "         f\"https://www.ncaa.com/scoreboard/basketball-men/d1/2025/01/12/all-conf\",\n",
    "         f\"https://www.ncaa.com/scoreboard/basketball-men/d2/2025/01/12/all-conf\",\n",
    "         f\"https://www.ncaa.com/scoreboard/basketball-men/d3/2025/01/12/all-conf\",\n",
    "        ]"
   ]
  },
  {
   "cell_type": "code",
   "execution_count": 32,
   "id": "cdb57fd7",
   "metadata": {},
   "outputs": [],
   "source": [
    "links = [\n",
    "         f\"https://www.ncaa.com/scoreboard/basketball-men/d1/{date}/all-conf\",\n",
    "         f\"https://www.ncaa.com/scoreboard/basketball-men/d2/{date}/all-conf\",\n",
    "         f\"https://www.ncaa.com/scoreboard/basketball-men/d3/{date}/all-conf\",\n",
    "         f\"https://www.ncaa.com/scoreboard/basketball-women/d1/{date}/all-conf\",\n",
    "         f\"https://www.ncaa.com/scoreboard/basketball-women/d2/{date}/all-conf\",\n",
    "         f\"https://www.ncaa.com/scoreboard/basketball-women/d3/{date}/all-conf\"]"
   ]
  },
  {
   "cell_type": "code",
   "execution_count": 17,
   "id": "e18641f3-556e-4095-bc4c-9697aaf7d9cd",
   "metadata": {},
   "outputs": [
    {
     "name": "stdout",
     "output_type": "stream",
     "text": [
      "basketball-women_d1_01_12_2025.csv\n",
      "http://ncaa.com/game/6356699\n"
     ]
    },
    {
     "ename": "StaleElementReferenceException",
     "evalue": "Message: stale element reference: stale element not found in the current frame\n  (Session info: chrome=131.0.6778.265); For documentation on this error, please visit: https://www.selenium.dev/documentation/webdriver/troubleshooting/errors#stale-element-reference-exception\nStacktrace:\n0   chromedriver                        0x000000010533a138 cxxbridge1$str$ptr + 3653888\n1   chromedriver                        0x0000000105332988 cxxbridge1$str$ptr + 3623248\n2   chromedriver                        0x0000000104d98968 cxxbridge1$string$len + 89228\n3   chromedriver                        0x0000000104d9d84c cxxbridge1$string$len + 109424\n4   chromedriver                        0x0000000104d9fb3c cxxbridge1$string$len + 118368\n5   chromedriver                        0x0000000104e16d44 cxxbridge1$string$len + 606312\n6   chromedriver                        0x0000000104e164f0 cxxbridge1$string$len + 604180\n7   chromedriver                        0x0000000104dd1564 cxxbridge1$string$len + 321672\n8   chromedriver                        0x0000000104dd21b4 cxxbridge1$string$len + 324824\n9   chromedriver                        0x0000000105304fc0 cxxbridge1$str$ptr + 3436424\n10  chromedriver                        0x00000001053082dc cxxbridge1$str$ptr + 3449508\n11  chromedriver                        0x00000001052ebe60 cxxbridge1$str$ptr + 3333672\n12  chromedriver                        0x0000000105308b9c cxxbridge1$str$ptr + 3451748\n13  chromedriver                        0x00000001052dd678 cxxbridge1$str$ptr + 3274304\n14  chromedriver                        0x00000001053232b4 cxxbridge1$str$ptr + 3560060\n15  chromedriver                        0x0000000105323430 cxxbridge1$str$ptr + 3560440\n16  chromedriver                        0x00000001053325fc cxxbridge1$str$ptr + 3622340\n17  libsystem_pthread.dylib             0x00000001b05a226c _pthread_start + 148\n18  libsystem_pthread.dylib             0x00000001b059d08c thread_start + 8\n",
     "output_type": "error",
     "traceback": [
      "\u001b[0;31m---------------------------------------------------------------------------\u001b[0m",
      "\u001b[0;31mStaleElementReferenceException\u001b[0m            Traceback (most recent call last)",
      "Cell \u001b[0;32mIn[17], line 2\u001b[0m\n\u001b[1;32m      1\u001b[0m \u001b[38;5;28;01mfor\u001b[39;00m link \u001b[38;5;129;01min\u001b[39;00m backfills:\n\u001b[0;32m----> 2\u001b[0m     get_box_scores(link)\n",
      "Cell \u001b[0;32mIn[5], line 29\u001b[0m, in \u001b[0;36mget_box_scores\u001b[0;34m(link)\u001b[0m\n\u001b[1;32m     25\u001b[0m child_divs_text \u001b[38;5;241m=\u001b[39m [div\u001b[38;5;241m.\u001b[39mtext \u001b[38;5;28;01mfor\u001b[39;00m div \u001b[38;5;129;01min\u001b[39;00m child_divs]\n\u001b[1;32m     27\u001b[0m table \u001b[38;5;241m=\u001b[39m driver\u001b[38;5;241m.\u001b[39mfind_element(By\u001b[38;5;241m.\u001b[39mCLASS_NAME, \u001b[38;5;124m'\u001b[39m\u001b[38;5;124mgamecenter-tab-boxscore\u001b[39m\u001b[38;5;124m'\u001b[39m)\u001b[38;5;241m.\u001b[39mfind_element(By\u001b[38;5;241m.\u001b[39mTAG_NAME, \u001b[38;5;124m'\u001b[39m\u001b[38;5;124mtable\u001b[39m\u001b[38;5;124m'\u001b[39m)\n\u001b[0;32m---> 29\u001b[0m df_team_one \u001b[38;5;241m=\u001b[39m pd\u001b[38;5;241m.\u001b[39mread_html(StringIO(table\u001b[38;5;241m.\u001b[39mget_attribute(\u001b[38;5;124m'\u001b[39m\u001b[38;5;124mouterHTML\u001b[39m\u001b[38;5;124m'\u001b[39m)))[\u001b[38;5;241m0\u001b[39m]\n\u001b[1;32m     31\u001b[0m df_team_one[\u001b[38;5;124m'\u001b[39m\u001b[38;5;124mTEAM\u001b[39m\u001b[38;5;124m'\u001b[39m] \u001b[38;5;241m=\u001b[39m child_divs_text[\u001b[38;5;241m0\u001b[39m]\n\u001b[1;32m     32\u001b[0m df_team_one[\u001b[38;5;124m'\u001b[39m\u001b[38;5;124mOPP\u001b[39m\u001b[38;5;124m'\u001b[39m] \u001b[38;5;241m=\u001b[39m child_divs_text[\u001b[38;5;241m1\u001b[39m]\n",
      "File \u001b[0;32m/opt/anaconda3/lib/python3.12/site-packages/selenium/webdriver/remote/webelement.py:178\u001b[0m, in \u001b[0;36mWebElement.get_attribute\u001b[0;34m(self, name)\u001b[0m\n\u001b[1;32m    176\u001b[0m \u001b[38;5;28;01mif\u001b[39;00m getAttribute_js \u001b[38;5;129;01mis\u001b[39;00m \u001b[38;5;28;01mNone\u001b[39;00m:\n\u001b[1;32m    177\u001b[0m     _load_js()\n\u001b[0;32m--> 178\u001b[0m attribute_value \u001b[38;5;241m=\u001b[39m \u001b[38;5;28mself\u001b[39m\u001b[38;5;241m.\u001b[39mparent\u001b[38;5;241m.\u001b[39mexecute_script(\n\u001b[1;32m    179\u001b[0m     \u001b[38;5;124mf\u001b[39m\u001b[38;5;124m\"\u001b[39m\u001b[38;5;124m/* getAttribute */return (\u001b[39m\u001b[38;5;132;01m{\u001b[39;00mgetAttribute_js\u001b[38;5;132;01m}\u001b[39;00m\u001b[38;5;124m).apply(null, arguments);\u001b[39m\u001b[38;5;124m\"\u001b[39m, \u001b[38;5;28mself\u001b[39m, name\n\u001b[1;32m    180\u001b[0m )\n\u001b[1;32m    181\u001b[0m \u001b[38;5;28;01mreturn\u001b[39;00m attribute_value\n",
      "File \u001b[0;32m/opt/anaconda3/lib/python3.12/site-packages/selenium/webdriver/remote/webdriver.py:414\u001b[0m, in \u001b[0;36mWebDriver.execute_script\u001b[0;34m(self, script, *args)\u001b[0m\n\u001b[1;32m    411\u001b[0m converted_args \u001b[38;5;241m=\u001b[39m \u001b[38;5;28mlist\u001b[39m(args)\n\u001b[1;32m    412\u001b[0m command \u001b[38;5;241m=\u001b[39m Command\u001b[38;5;241m.\u001b[39mW3C_EXECUTE_SCRIPT\n\u001b[0;32m--> 414\u001b[0m \u001b[38;5;28;01mreturn\u001b[39;00m \u001b[38;5;28mself\u001b[39m\u001b[38;5;241m.\u001b[39mexecute(command, {\u001b[38;5;124m\"\u001b[39m\u001b[38;5;124mscript\u001b[39m\u001b[38;5;124m\"\u001b[39m: script, \u001b[38;5;124m\"\u001b[39m\u001b[38;5;124margs\u001b[39m\u001b[38;5;124m\"\u001b[39m: converted_args})[\u001b[38;5;124m\"\u001b[39m\u001b[38;5;124mvalue\u001b[39m\u001b[38;5;124m\"\u001b[39m]\n",
      "File \u001b[0;32m/opt/anaconda3/lib/python3.12/site-packages/selenium/webdriver/remote/webdriver.py:354\u001b[0m, in \u001b[0;36mWebDriver.execute\u001b[0;34m(self, driver_command, params)\u001b[0m\n\u001b[1;32m    352\u001b[0m response \u001b[38;5;241m=\u001b[39m \u001b[38;5;28mself\u001b[39m\u001b[38;5;241m.\u001b[39mcommand_executor\u001b[38;5;241m.\u001b[39mexecute(driver_command, params)\n\u001b[1;32m    353\u001b[0m \u001b[38;5;28;01mif\u001b[39;00m response:\n\u001b[0;32m--> 354\u001b[0m     \u001b[38;5;28mself\u001b[39m\u001b[38;5;241m.\u001b[39merror_handler\u001b[38;5;241m.\u001b[39mcheck_response(response)\n\u001b[1;32m    355\u001b[0m     response[\u001b[38;5;124m\"\u001b[39m\u001b[38;5;124mvalue\u001b[39m\u001b[38;5;124m\"\u001b[39m] \u001b[38;5;241m=\u001b[39m \u001b[38;5;28mself\u001b[39m\u001b[38;5;241m.\u001b[39m_unwrap_value(response\u001b[38;5;241m.\u001b[39mget(\u001b[38;5;124m\"\u001b[39m\u001b[38;5;124mvalue\u001b[39m\u001b[38;5;124m\"\u001b[39m, \u001b[38;5;28;01mNone\u001b[39;00m))\n\u001b[1;32m    356\u001b[0m     \u001b[38;5;28;01mreturn\u001b[39;00m response\n",
      "File \u001b[0;32m/opt/anaconda3/lib/python3.12/site-packages/selenium/webdriver/remote/errorhandler.py:229\u001b[0m, in \u001b[0;36mErrorHandler.check_response\u001b[0;34m(self, response)\u001b[0m\n\u001b[1;32m    227\u001b[0m         alert_text \u001b[38;5;241m=\u001b[39m value[\u001b[38;5;124m\"\u001b[39m\u001b[38;5;124malert\u001b[39m\u001b[38;5;124m\"\u001b[39m]\u001b[38;5;241m.\u001b[39mget(\u001b[38;5;124m\"\u001b[39m\u001b[38;5;124mtext\u001b[39m\u001b[38;5;124m\"\u001b[39m)\n\u001b[1;32m    228\u001b[0m     \u001b[38;5;28;01mraise\u001b[39;00m exception_class(message, screen, stacktrace, alert_text)  \u001b[38;5;66;03m# type: ignore[call-arg]  # mypy is not smart enough here\u001b[39;00m\n\u001b[0;32m--> 229\u001b[0m \u001b[38;5;28;01mraise\u001b[39;00m exception_class(message, screen, stacktrace)\n",
      "\u001b[0;31mStaleElementReferenceException\u001b[0m: Message: stale element reference: stale element not found in the current frame\n  (Session info: chrome=131.0.6778.265); For documentation on this error, please visit: https://www.selenium.dev/documentation/webdriver/troubleshooting/errors#stale-element-reference-exception\nStacktrace:\n0   chromedriver                        0x000000010533a138 cxxbridge1$str$ptr + 3653888\n1   chromedriver                        0x0000000105332988 cxxbridge1$str$ptr + 3623248\n2   chromedriver                        0x0000000104d98968 cxxbridge1$string$len + 89228\n3   chromedriver                        0x0000000104d9d84c cxxbridge1$string$len + 109424\n4   chromedriver                        0x0000000104d9fb3c cxxbridge1$string$len + 118368\n5   chromedriver                        0x0000000104e16d44 cxxbridge1$string$len + 606312\n6   chromedriver                        0x0000000104e164f0 cxxbridge1$string$len + 604180\n7   chromedriver                        0x0000000104dd1564 cxxbridge1$string$len + 321672\n8   chromedriver                        0x0000000104dd21b4 cxxbridge1$string$len + 324824\n9   chromedriver                        0x0000000105304fc0 cxxbridge1$str$ptr + 3436424\n10  chromedriver                        0x00000001053082dc cxxbridge1$str$ptr + 3449508\n11  chromedriver                        0x00000001052ebe60 cxxbridge1$str$ptr + 3333672\n12  chromedriver                        0x0000000105308b9c cxxbridge1$str$ptr + 3451748\n13  chromedriver                        0x00000001052dd678 cxxbridge1$str$ptr + 3274304\n14  chromedriver                        0x00000001053232b4 cxxbridge1$str$ptr + 3560060\n15  chromedriver                        0x0000000105323430 cxxbridge1$str$ptr + 3560440\n16  chromedriver                        0x00000001053325fc cxxbridge1$str$ptr + 3622340\n17  libsystem_pthread.dylib             0x00000001b05a226c _pthread_start + 148\n18  libsystem_pthread.dylib             0x00000001b059d08c thread_start + 8\n"
     ]
    }
   ],
   "source": [
    "for link in backfills:\n",
    "    get_box_scores(link)"
   ]
  },
  {
   "cell_type": "code",
   "execution_count": 34,
   "id": "46665658",
   "metadata": {},
   "outputs": [
    {
     "name": "stdout",
     "output_type": "stream",
     "text": [
      "basketball-men_d1_01_13_2025.csv\n",
      "http://ncaa.com/game/6354751\n",
      "http://ncaa.com/game/6352148\n",
      "http://ncaa.com/game/6351654\n",
      "http://ncaa.com/game/6349434\n"
     ]
    },
    {
     "ename": "TimeoutException",
     "evalue": "Message: timeout: Timed out receiving message from renderer: 298.464\n  (Session info: chrome=131.0.6778.266)\nStacktrace:\n0   chromedriver                        0x00000001033d2138 cxxbridge1$str$ptr + 3653888\n1   chromedriver                        0x00000001033ca988 cxxbridge1$str$ptr + 3623248\n2   chromedriver                        0x0000000102e30968 cxxbridge1$string$len + 89228\n3   chromedriver                        0x0000000102e1bc90 cxxbridge1$string$len + 4020\n4   chromedriver                        0x0000000102e1ba00 cxxbridge1$string$len + 3364\n5   chromedriver                        0x0000000102e1978c core::str::slice_error_fail::ha0e52dbcb60e6bae + 59404\n6   chromedriver                        0x0000000102e1a3f8 core::str::slice_error_fail::ha0e52dbcb60e6bae + 62584\n7   chromedriver                        0x0000000102e28000 cxxbridge1$string$len + 54052\n8   chromedriver                        0x0000000102e3bb28 cxxbridge1$string$len + 134732\n9   chromedriver                        0x0000000102e1aa24 core::str::slice_error_fail::ha0e52dbcb60e6bae + 64164\n10  chromedriver                        0x0000000102e3b9f0 cxxbridge1$string$len + 134420\n11  chromedriver                        0x0000000102eae6bc cxxbridge1$string$len + 604640\n12  chromedriver                        0x0000000102e69564 cxxbridge1$string$len + 321672\n13  chromedriver                        0x0000000102e6a1b4 cxxbridge1$string$len + 324824\n14  chromedriver                        0x000000010339cfc0 cxxbridge1$str$ptr + 3436424\n15  chromedriver                        0x00000001033a02dc cxxbridge1$str$ptr + 3449508\n16  chromedriver                        0x0000000103383e60 cxxbridge1$str$ptr + 3333672\n17  chromedriver                        0x00000001033a0b9c cxxbridge1$str$ptr + 3451748\n18  chromedriver                        0x0000000103375678 cxxbridge1$str$ptr + 3274304\n19  chromedriver                        0x00000001033bb2b4 cxxbridge1$str$ptr + 3560060\n20  chromedriver                        0x00000001033bb430 cxxbridge1$str$ptr + 3560440\n21  chromedriver                        0x00000001033ca5fc cxxbridge1$str$ptr + 3622340\n22  libsystem_pthread.dylib             0x00000001b05a226c _pthread_start + 148\n23  libsystem_pthread.dylib             0x00000001b059d08c thread_start + 8\n",
     "output_type": "error",
     "traceback": [
      "\u001b[0;31m---------------------------------------------------------------------------\u001b[0m",
      "\u001b[0;31mTimeoutException\u001b[0m                          Traceback (most recent call last)",
      "Cell \u001b[0;32mIn[34], line 2\u001b[0m\n\u001b[1;32m      1\u001b[0m \u001b[38;5;28;01mfor\u001b[39;00m link \u001b[38;5;129;01min\u001b[39;00m links:\n\u001b[0;32m----> 2\u001b[0m     get_box_scores(link)\n",
      "Cell \u001b[0;32mIn[22], line 14\u001b[0m, in \u001b[0;36mget_box_scores\u001b[0;34m(link)\u001b[0m\n\u001b[1;32m     12\u001b[0m \u001b[38;5;28mprint\u001b[39m(box_score_link)\n\u001b[1;32m     13\u001b[0m driver\u001b[38;5;241m.\u001b[39mimplicitly_wait(\u001b[38;5;241m5\u001b[39m)\n\u001b[0;32m---> 14\u001b[0m driver\u001b[38;5;241m.\u001b[39mget(box_score_link)\n\u001b[1;32m     15\u001b[0m time\u001b[38;5;241m.\u001b[39msleep(\u001b[38;5;241m5\u001b[39m)\n\u001b[1;32m     16\u001b[0m driver\u001b[38;5;241m.\u001b[39mexecute_script(\u001b[38;5;124m\"\u001b[39m\u001b[38;5;124mwindow.stop();\u001b[39m\u001b[38;5;124m\"\u001b[39m)\n",
      "File \u001b[0;32m/opt/anaconda3/lib/python3.12/site-packages/selenium/webdriver/remote/webdriver.py:363\u001b[0m, in \u001b[0;36mWebDriver.get\u001b[0;34m(self, url)\u001b[0m\n\u001b[1;32m    361\u001b[0m \u001b[38;5;28;01mdef\u001b[39;00m \u001b[38;5;21mget\u001b[39m(\u001b[38;5;28mself\u001b[39m, url: \u001b[38;5;28mstr\u001b[39m) \u001b[38;5;241m-\u001b[39m\u001b[38;5;241m>\u001b[39m \u001b[38;5;28;01mNone\u001b[39;00m:\n\u001b[1;32m    362\u001b[0m \u001b[38;5;250m    \u001b[39m\u001b[38;5;124;03m\"\"\"Loads a web page in the current browser session.\"\"\"\u001b[39;00m\n\u001b[0;32m--> 363\u001b[0m     \u001b[38;5;28mself\u001b[39m\u001b[38;5;241m.\u001b[39mexecute(Command\u001b[38;5;241m.\u001b[39mGET, {\u001b[38;5;124m\"\u001b[39m\u001b[38;5;124murl\u001b[39m\u001b[38;5;124m\"\u001b[39m: url})\n",
      "File \u001b[0;32m/opt/anaconda3/lib/python3.12/site-packages/selenium/webdriver/remote/webdriver.py:354\u001b[0m, in \u001b[0;36mWebDriver.execute\u001b[0;34m(self, driver_command, params)\u001b[0m\n\u001b[1;32m    352\u001b[0m response \u001b[38;5;241m=\u001b[39m \u001b[38;5;28mself\u001b[39m\u001b[38;5;241m.\u001b[39mcommand_executor\u001b[38;5;241m.\u001b[39mexecute(driver_command, params)\n\u001b[1;32m    353\u001b[0m \u001b[38;5;28;01mif\u001b[39;00m response:\n\u001b[0;32m--> 354\u001b[0m     \u001b[38;5;28mself\u001b[39m\u001b[38;5;241m.\u001b[39merror_handler\u001b[38;5;241m.\u001b[39mcheck_response(response)\n\u001b[1;32m    355\u001b[0m     response[\u001b[38;5;124m\"\u001b[39m\u001b[38;5;124mvalue\u001b[39m\u001b[38;5;124m\"\u001b[39m] \u001b[38;5;241m=\u001b[39m \u001b[38;5;28mself\u001b[39m\u001b[38;5;241m.\u001b[39m_unwrap_value(response\u001b[38;5;241m.\u001b[39mget(\u001b[38;5;124m\"\u001b[39m\u001b[38;5;124mvalue\u001b[39m\u001b[38;5;124m\"\u001b[39m, \u001b[38;5;28;01mNone\u001b[39;00m))\n\u001b[1;32m    356\u001b[0m     \u001b[38;5;28;01mreturn\u001b[39;00m response\n",
      "File \u001b[0;32m/opt/anaconda3/lib/python3.12/site-packages/selenium/webdriver/remote/errorhandler.py:229\u001b[0m, in \u001b[0;36mErrorHandler.check_response\u001b[0;34m(self, response)\u001b[0m\n\u001b[1;32m    227\u001b[0m         alert_text \u001b[38;5;241m=\u001b[39m value[\u001b[38;5;124m\"\u001b[39m\u001b[38;5;124malert\u001b[39m\u001b[38;5;124m\"\u001b[39m]\u001b[38;5;241m.\u001b[39mget(\u001b[38;5;124m\"\u001b[39m\u001b[38;5;124mtext\u001b[39m\u001b[38;5;124m\"\u001b[39m)\n\u001b[1;32m    228\u001b[0m     \u001b[38;5;28;01mraise\u001b[39;00m exception_class(message, screen, stacktrace, alert_text)  \u001b[38;5;66;03m# type: ignore[call-arg]  # mypy is not smart enough here\u001b[39;00m\n\u001b[0;32m--> 229\u001b[0m \u001b[38;5;28;01mraise\u001b[39;00m exception_class(message, screen, stacktrace)\n",
      "\u001b[0;31mTimeoutException\u001b[0m: Message: timeout: Timed out receiving message from renderer: 298.464\n  (Session info: chrome=131.0.6778.266)\nStacktrace:\n0   chromedriver                        0x00000001033d2138 cxxbridge1$str$ptr + 3653888\n1   chromedriver                        0x00000001033ca988 cxxbridge1$str$ptr + 3623248\n2   chromedriver                        0x0000000102e30968 cxxbridge1$string$len + 89228\n3   chromedriver                        0x0000000102e1bc90 cxxbridge1$string$len + 4020\n4   chromedriver                        0x0000000102e1ba00 cxxbridge1$string$len + 3364\n5   chromedriver                        0x0000000102e1978c core::str::slice_error_fail::ha0e52dbcb60e6bae + 59404\n6   chromedriver                        0x0000000102e1a3f8 core::str::slice_error_fail::ha0e52dbcb60e6bae + 62584\n7   chromedriver                        0x0000000102e28000 cxxbridge1$string$len + 54052\n8   chromedriver                        0x0000000102e3bb28 cxxbridge1$string$len + 134732\n9   chromedriver                        0x0000000102e1aa24 core::str::slice_error_fail::ha0e52dbcb60e6bae + 64164\n10  chromedriver                        0x0000000102e3b9f0 cxxbridge1$string$len + 134420\n11  chromedriver                        0x0000000102eae6bc cxxbridge1$string$len + 604640\n12  chromedriver                        0x0000000102e69564 cxxbridge1$string$len + 321672\n13  chromedriver                        0x0000000102e6a1b4 cxxbridge1$string$len + 324824\n14  chromedriver                        0x000000010339cfc0 cxxbridge1$str$ptr + 3436424\n15  chromedriver                        0x00000001033a02dc cxxbridge1$str$ptr + 3449508\n16  chromedriver                        0x0000000103383e60 cxxbridge1$str$ptr + 3333672\n17  chromedriver                        0x00000001033a0b9c cxxbridge1$str$ptr + 3451748\n18  chromedriver                        0x0000000103375678 cxxbridge1$str$ptr + 3274304\n19  chromedriver                        0x00000001033bb2b4 cxxbridge1$str$ptr + 3560060\n20  chromedriver                        0x00000001033bb430 cxxbridge1$str$ptr + 3560440\n21  chromedriver                        0x00000001033ca5fc cxxbridge1$str$ptr + 3622340\n22  libsystem_pthread.dylib             0x00000001b05a226c _pthread_start + 148\n23  libsystem_pthread.dylib             0x00000001b059d08c thread_start + 8\n"
     ]
    }
   ],
   "source": [
    "for link in links:\n",
    "    get_box_scores(link)"
   ]
  },
  {
   "cell_type": "code",
   "execution_count": null,
   "id": "5acad500-b615-4fa3-aa89-bea7f795f14c",
   "metadata": {},
   "outputs": [],
   "source": []
  },
  {
   "cell_type": "code",
   "execution_count": null,
   "id": "ddd9f0cd-ca89-4b9a-ba39-b1ba96917f90",
   "metadata": {},
   "outputs": [],
   "source": []
  },
  {
   "cell_type": "code",
   "execution_count": null,
   "id": "28656605-2b3d-443d-836e-c5db6c321f33",
   "metadata": {},
   "outputs": [],
   "source": []
  },
  {
   "cell_type": "code",
   "execution_count": null,
   "id": "9e8af341-7360-4646-a9ec-7379ffedbe00",
   "metadata": {},
   "outputs": [],
   "source": []
  }
 ],
 "metadata": {
  "kernelspec": {
   "display_name": "base",
   "language": "python",
   "name": "python3"
  },
  "language_info": {
   "codemirror_mode": {
    "name": "ipython",
    "version": 3
   },
   "file_extension": ".py",
   "mimetype": "text/x-python",
   "name": "python",
   "nbconvert_exporter": "python",
   "pygments_lexer": "ipython3",
   "version": "3.11.4"
  }
 },
 "nbformat": 4,
 "nbformat_minor": 5
}
